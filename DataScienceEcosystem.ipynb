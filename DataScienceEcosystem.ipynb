{
 "cells": [
  {
   "cell_type": "markdown",
   "id": "ce77f4fb-1e24-412c-a94b-663c15155bd2",
   "metadata": {},
   "source": [
    "# Data Science Tools and Ecosystem"
   ]
  },
  {
   "cell_type": "markdown",
   "id": "b99ea708-5564-46ab-bb43-f78f3c4efd51",
   "metadata": {},
   "source": [
    "In this notebook, Data Science Tools and Ecosystem are summarized.\n"
   ]
  },
  {
   "cell_type": "markdown",
   "id": "34651bae-e276-4dd7-b78b-9549012a9896",
   "metadata": {},
   "source": [
    "Some of the popular languages that Data Scientists use are:"
   ]
  },
  {
   "cell_type": "markdown",
   "id": "53228a29-cb7e-42a4-94e0-fccd14a9d0be",
   "metadata": {},
   "source": [
    "1. Python\n",
    "2. R\n",
    "3. Julia"
   ]
  },
  {
   "cell_type": "markdown",
   "id": "54be3855-c239-405a-b5a2-4b0970862586",
   "metadata": {},
   "source": [
    "Some of the commonly used libraries used by Data Scientists include:\n",
    "1. Numpy\n",
    "2. Pandas\n",
    "3. Seaborn"
   ]
  },
  {
   "cell_type": "markdown",
   "id": "5248c715-e2e2-484e-acd2-29565933f169",
   "metadata": {
    "tags": []
   },
   "source": [
    "| Data Science Tools |\n",
    "---------------------\n",
    "|Jupyter Lab|\n",
    "|R studio|\n",
    "|Git|"
   ]
  },
  {
   "cell_type": "markdown",
   "id": "2869de9a-6ea7-4adf-9186-a5457a2c0753",
   "metadata": {},
   "source": [
    "### Below are a few examples of evaluating arithmetic expressions in Python"
   ]
  },
  {
   "cell_type": "code",
   "execution_count": 13,
   "id": "0b74285c-7f69-4aae-9dd3-97d185c18a7e",
   "metadata": {
    "tags": []
   },
   "outputs": [
    {
     "name": "stdout",
     "output_type": "stream",
     "text": [
      "17\n"
     ]
    }
   ],
   "source": [
    "#This a simple arithmetic expression to mutiply then add integers\n",
    "a=3\n",
    "b=4\n",
    "c=5\n",
    "print((a*b)+c)"
   ]
  },
  {
   "cell_type": "code",
   "execution_count": 15,
   "id": "cce663b5-d969-4ede-973a-015ea3a8ad58",
   "metadata": {
    "tags": []
   },
   "outputs": [
    {
     "name": "stdout",
     "output_type": "stream",
     "text": [
      "3.3333333333333335\n"
     ]
    }
   ],
   "source": [
    "# This will convert 200 minutes to hours by diving by 60\n",
    "m=200\n",
    "h =m/60\n",
    "\n",
    "print(h)"
   ]
  },
  {
   "cell_type": "markdown",
   "id": "142094f3-b485-41c5-ae1d-f3cd1d8cdbf8",
   "metadata": {
    "tags": []
   },
   "source": [
    "#### Objectives:\n",
    "+ List popular languages for Data Science\n",
    "+ List Commonly used tools in Datascience\n",
    "+ Examples of arithemetic expressions"
   ]
  },
  {
   "cell_type": "markdown",
   "id": "73577593-a61c-42ff-9e8d-ae126ca105e9",
   "metadata": {},
   "source": [
    "## Author\n",
    "Shaun"
   ]
  },
  {
   "cell_type": "code",
   "execution_count": null,
   "id": "41aa0eba-8513-4a02-9055-7def5d00305f",
   "metadata": {},
   "outputs": [],
   "source": []
  }
 ],
 "metadata": {
  "kernelspec": {
   "display_name": "Python",
   "language": "python",
   "name": "conda-env-python-py"
  },
  "language_info": {
   "codemirror_mode": {
    "name": "ipython",
    "version": 3
   },
   "file_extension": ".py",
   "mimetype": "text/x-python",
   "name": "python",
   "nbconvert_exporter": "python",
   "pygments_lexer": "ipython3",
   "version": "3.7.12"
  }
 },
 "nbformat": 4,
 "nbformat_minor": 5
}
